{
 "cells": [
  {
   "cell_type": "code",
   "execution_count": null,
   "metadata": {
    "collapsed": true
   },
   "outputs": [],
   "source": [
    "def procRequest(request):\n",
    "    j = json.loads(request.text)\n",
    "    h = j[j.keys()[0]]\n",
    "    l = list(e[0] for e in enumerate(h.items()))\n",
    "    for e in enumerate(h.items()):\n",
    "        o = io.StringIO(e[1][1])\n",
    "        l[e[0]] = {e[1][0]: pd.read_csv(o, sep='\\t',prefix=e[1][0])}\n",
    "    return(l)      "
   ]
  },
  {
   "cell_type": "code",
   "execution_count": 133,
   "metadata": {
    "collapsed": false
   },
   "outputs": [],
   "source": [
    "import json\n",
    "import io\n",
    "import pandas as pd\n",
    "import requests\n",
    "\n",
    "#This function processed API requests for individual proteins into a list of dictionary objects with key = tool, val = Pandas DF\n",
    "def procRequest(request):\n",
    "    j = json.loads(request.text)\n",
    "    h = j[j.keys()[0]]\n",
    "    l = list(e[0] for e in enumerate(h.items()))\n",
    "    for e in enumerate(h.items()):\n",
    "        o = io.StringIO(e[1][1])\n",
    "        df = pd.read_csv(o, sep='\\t')\n",
    "        for c in df.columns:\n",
    "            if c not in ['allele','peptide']:\n",
    "                df = df.rename(columns={c: str(e[1][0]) + c})\n",
    "        l[e[0]] = {e[1][0]: df}\n",
    "    return(l)\n",
    "\n",
    "#This function takes the generated list from the procRequest function and generates a merged DF in JSON format\n",
    "def genMergedTable(l):\n",
    "    for e in enumerate(l):\n",
    "        if e[0] == 0:\n",
    "            df = l[e[0]].values()[0]\n",
    "        else:\n",
    "            df = pd.merge(df, l[e[0]].values()[0], on=['peptide', 'allele'], how='outer')\n",
    "    return(df.to_json)\n",
    "\n",
    "#Example use:\n",
    "\n",
    "request = requests.get('http://api.imetric.io/query/MAAAGSRKRRLAELTVDEFLASGFDSESESESENSPQAETREAREAARSPDKPGGSPSAS')\n",
    "l = procRequest(request)\n",
    "jsonDF = genMergedTable(l)"
   ]
  },
  {
   "cell_type": "code",
   "execution_count": 137,
   "metadata": {
    "collapsed": true
   },
   "outputs": [],
   "source": [
    "j = json.loads(request.text)"
   ]
  },
  {
   "cell_type": "code",
   "execution_count": 140,
   "metadata": {
    "collapsed": false
   },
   "outputs": [
    {
     "data": {
      "text/plain": [
       "u'MAAAGSRKRRLAELTVDEFLASGFDSESESESENSPQAETREAREAARSPDKPGGSPSAS'"
      ]
     },
     "execution_count": 140,
     "metadata": {},
     "output_type": "execute_result"
    }
   ],
   "source": [
    "j.keys()[0]"
   ]
  },
  {
   "cell_type": "code",
   "execution_count": null,
   "metadata": {
    "collapsed": true
   },
   "outputs": [],
   "source": []
  }
 ],
 "metadata": {
  "kernelspec": {
   "display_name": "Python 2",
   "language": "python",
   "name": "python2"
  },
  "language_info": {
   "codemirror_mode": {
    "name": "ipython",
    "version": 2
   },
   "file_extension": ".py",
   "mimetype": "text/x-python",
   "name": "python",
   "nbconvert_exporter": "python",
   "pygments_lexer": "ipython2",
   "version": "2.7.11"
  }
 },
 "nbformat": 4,
 "nbformat_minor": 0
}
